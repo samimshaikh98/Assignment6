{
 "cells": [
  {
   "cell_type": "markdown",
   "id": "64f8fe73-9377-4eef-9904-60270228f127",
   "metadata": {},
   "source": [
    "5th feb assignment"
   ]
  },
  {
   "cell_type": "markdown",
   "id": "dfd13107-abcd-447c-99e7-d4ab14ee2804",
   "metadata": {},
   "source": [
    "Q1. Explain Class and Object with respect to Object-Oriented Programming. Give a suitable example."
   ]
  },
  {
   "cell_type": "markdown",
   "id": "5416d92a-f497-4414-89f2-0b8d54c1aa4a",
   "metadata": {},
   "source": [
    "Classes and objects are fundamental concepts in object-oriented programming (OOP).\n",
    "\n",
    "A class is a blueprint or template for creating objects. It defines the properties and methods that the objects of the class will have. A class acts as a blueprint for objects, and you can create multiple objects from a single class."
   ]
  },
  {
   "cell_type": "code",
   "execution_count": 1,
   "id": "de02bbf0-a2cb-4841-a975-7d3d34c0cf5f",
   "metadata": {},
   "outputs": [
    {
     "name": "stdout",
     "output_type": "stream",
     "text": [
      "Toyota\n",
      "Camry\n",
      "2020\n"
     ]
    }
   ],
   "source": [
    "class Car:\n",
    "    def __init__(self, make, model, year):\n",
    "        self.make = make\n",
    "        self.model = model\n",
    "        self.year = year\n",
    "\n",
    "    def get_make(self):\n",
    "        return self.make\n",
    "\n",
    "    def get_model(self):\n",
    "        return self.model\n",
    "\n",
    "    def get_year(self):\n",
    "        return self.year\n",
    "\n",
    "my_car = Car(\"Toyota\", \"Camry\", 2020)\n",
    "print(my_car.get_make())\n",
    "print(my_car.get_model())\n",
    "print(my_car.get_year())\n"
   ]
  },
  {
   "cell_type": "markdown",
   "id": "113d6434-537d-4d0b-9263-451d20d98bef",
   "metadata": {},
   "source": [
    "Q2. Name the four pillars of OOPs."
   ]
  },
  {
   "cell_type": "markdown",
   "id": "2ad07998-8d62-4635-98bc-e8b5dbde671e",
   "metadata": {},
   "source": [
    "The four pillars of object-oriented programming (OOP) are:\n",
    "\n",
    "    1.Abstraction: Hiding the complexity of an object and exposing only relevant information to the user.\n",
    "\n",
    "    2.Encapsulation: Wrapping up of data and functions within an object, preventing unauthorized access and making it easier to maintain and update the code.\n",
    "\n",
    "    3.Inheritance: Reusing existing code and creating new objects by inheriting properties and methods from existing classes.\n",
    "\n",
    "    4.Polymorphism: The ability of an object to take on multiple forms, such as by overloading methods or using inheritance. This allows objects to be treated as objects of the same type, even if they belong to different classes."
   ]
  },
  {
   "cell_type": "markdown",
   "id": "f7b197df-8a6b-49b5-a5c4-134ac3bd56a5",
   "metadata": {},
   "source": [
    "The __init__ method in Python is known as the constructor method. It is automatically called when an object of a class is created, and it is used to initialize the object's state.\n",
    "\n",
    "The __init__ method takes self as its first argument, which refers to the instance being created. Additional arguments can be added to the __init__ method to initialize the object's properties."
   ]
  },
  {
   "cell_type": "markdown",
   "id": "1ccb7953-a60a-4401-a53a-cfa7969c7af5",
   "metadata": {},
   "source": [
    "Q3. Explain why the __init__() function is used. Give a suitable example."
   ]
  },
  {
   "cell_type": "markdown",
   "id": "10b04a8a-c568-4c05-af28-11bb9f52637d",
   "metadata": {},
   "source": [
    "The __init__ function is used in Python classes as a constructor. The constructor is called automatically when an object of a class is created, and it allows you to initialize the properties of the object. The __init__ function is used to give the object its initial state."
   ]
  },
  {
   "cell_type": "code",
   "execution_count": 35,
   "id": "e85a3937-e568-4cc4-813a-e867823f5fb9",
   "metadata": {},
   "outputs": [
    {
     "name": "stdout",
     "output_type": "stream",
     "text": [
      "John\n",
      "35\n",
      "Male\n"
     ]
    }
   ],
   "source": [
    "class Person:\n",
    "    def __init__(self, name, age, gender):\n",
    "        self.name = name\n",
    "        self.age = age\n",
    "        self.gender = gender\n",
    "\n",
    "person1 = Person(\"John\", 35, \"Male\")\n",
    "\n",
    "\n",
    "print(person1.name)\n",
    "print(person1.age)\n",
    "print(person1.gender)\n",
    "\n",
    "\n"
   ]
  },
  {
   "cell_type": "markdown",
   "id": "3bc38bca-0386-4afd-bbbf-af509a1a727e",
   "metadata": {},
   "source": [
    "Q4. Why self is used in OOPs?"
   ]
  },
  {
   "cell_type": "markdown",
   "id": "a65209a4-43fe-429b-aa9a-093c46786562",
   "metadata": {},
   "source": [
    "A\n",
    "In object-oriented programming (OOP), self is a reference to the current instance of the class. It is used to access the properties and methods of the class within the class itself. The self reference is automatically passed to the class's methods as the first argument when they are called, allowing the method to access the properties and methods of the current instance."
   ]
  },
  {
   "cell_type": "markdown",
   "id": "2010a51c-6f23-4927-81fd-63cd4222cb1d",
   "metadata": {},
   "source": [
    "Q5. What is inheritance? Give an example for each type of inheritance."
   ]
  },
  {
   "cell_type": "markdown",
   "id": "4c602cda-23f1-4609-a2ac-6c6fe896701c",
   "metadata": {},
   "source": [
    "\n",
    "Inheritance is a mechanism in object-oriented programming that allows a new class to inherit the properties and methods of an existing class. This means that the new class can reuse and extend the properties and methods of the existing class, allowing for more efficient code reuse and reducing the amount of code that needs to be written.\n",
    "\n",
    "There are several types of inheritance in OOP, including:\n",
    "\n",
    "    Single inheritance: Single inheritance is when a class inherits from a single parent class. The child class inherits all the properties and methods of the parent class and can also add its own properties and methods."
   ]
  },
  {
   "cell_type": "code",
   "execution_count": 36,
   "id": "5c71876c-af2a-4e2a-910f-75bcc006314e",
   "metadata": {},
   "outputs": [
    {
     "name": "stdout",
     "output_type": "stream",
     "text": [
      "Woof woof\n"
     ]
    }
   ],
   "source": [
    "class Animal:\n",
    "    def __init__(self, name):\n",
    "        self.name = name\n",
    "    \n",
    "    def make_sound(self):\n",
    "        print(\"Some generic animal sound\")\n",
    "\n",
    "class Dog(Animal):\n",
    "    def make_sound(self):\n",
    "        print(\"Woof woof\")\n",
    "\n",
    "dog = Dog(\"Fido\")\n",
    "dog.make_sound()\n"
   ]
  },
  {
   "cell_type": "code",
   "execution_count": null,
   "id": "953058cd-4a5f-4a46-89d0-928c189f6aec",
   "metadata": {},
   "outputs": [],
   "source": []
  }
 ],
 "metadata": {
  "kernelspec": {
   "display_name": "Python 3 (ipykernel)",
   "language": "python",
   "name": "python3"
  },
  "language_info": {
   "codemirror_mode": {
    "name": "ipython",
    "version": 3
   },
   "file_extension": ".py",
   "mimetype": "text/x-python",
   "name": "python",
   "nbconvert_exporter": "python",
   "pygments_lexer": "ipython3",
   "version": "3.10.8"
  }
 },
 "nbformat": 4,
 "nbformat_minor": 5
}
